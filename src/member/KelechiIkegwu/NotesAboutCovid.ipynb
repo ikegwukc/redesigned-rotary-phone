{
 "cells": [
  {
   "cell_type": "markdown",
   "id": "364aac4e-51e4-4dc0-a03f-6734a0ab620d",
   "metadata": {},
   "source": [
    "# This Code does X, Y and Z"
   ]
  },
  {
   "cell_type": "code",
   "execution_count": 3,
   "id": "176066a9-dd04-4dd2-872c-96a0fecc8951",
   "metadata": {},
   "outputs": [],
   "source": [
    "import numpy as np\n",
    "import pandas as pd"
   ]
  },
  {
   "cell_type": "code",
   "execution_count": 6,
   "id": "f74b3db8-b449-49a8-86ad-2880f5febf6b",
   "metadata": {},
   "outputs": [
    {
     "data": {
      "text/html": [
       "<div>\n",
       "<style scoped>\n",
       "    .dataframe tbody tr th:only-of-type {\n",
       "        vertical-align: middle;\n",
       "    }\n",
       "\n",
       "    .dataframe tbody tr th {\n",
       "        vertical-align: top;\n",
       "    }\n",
       "\n",
       "    .dataframe thead th {\n",
       "        text-align: right;\n",
       "    }\n",
       "</style>\n",
       "<table border=\"1\" class=\"dataframe\">\n",
       "  <thead>\n",
       "    <tr style=\"text-align: right;\">\n",
       "      <th></th>\n",
       "      <th>X</th>\n",
       "      <th>Y</th>\n",
       "      <th>Z</th>\n",
       "    </tr>\n",
       "  </thead>\n",
       "  <tbody>\n",
       "    <tr>\n",
       "      <th>0</th>\n",
       "      <td>0.302150</td>\n",
       "      <td>0.464372</td>\n",
       "      <td>0.230330</td>\n",
       "    </tr>\n",
       "    <tr>\n",
       "      <th>1</th>\n",
       "      <td>0.571814</td>\n",
       "      <td>0.078791</td>\n",
       "      <td>0.144163</td>\n",
       "    </tr>\n",
       "    <tr>\n",
       "      <th>2</th>\n",
       "      <td>0.296365</td>\n",
       "      <td>0.971158</td>\n",
       "      <td>0.226595</td>\n",
       "    </tr>\n",
       "  </tbody>\n",
       "</table>\n",
       "</div>"
      ],
      "text/plain": [
       "          X         Y         Z\n",
       "0  0.302150  0.464372  0.230330\n",
       "1  0.571814  0.078791  0.144163\n",
       "2  0.296365  0.971158  0.226595"
      ]
     },
     "execution_count": 6,
     "metadata": {},
     "output_type": "execute_result"
    }
   ],
   "source": [
    "pd.DataFrame(np.random.rand(3,3), columns=['X', 'Y', 'Z'])"
   ]
  },
  {
   "cell_type": "markdown",
   "id": "9ea23c60-0fef-46f7-825b-b99d71e3f76c",
   "metadata": {},
   "source": [
    "the result of X Y and Z"
   ]
  },
  {
   "cell_type": "code",
   "execution_count": null,
   "id": "bc6db3b8-b316-4d38-bfe4-f76246c0ee9c",
   "metadata": {},
   "outputs": [],
   "source": []
  }
 ],
 "metadata": {
  "kernelspec": {
   "display_name": "Python 3",
   "language": "python",
   "name": "python3"
  },
  "language_info": {
   "codemirror_mode": {
    "name": "ipython",
    "version": 3
   },
   "file_extension": ".py",
   "mimetype": "text/x-python",
   "name": "python",
   "nbconvert_exporter": "python",
   "pygments_lexer": "ipython3",
   "version": "3.8.2"
  }
 },
 "nbformat": 4,
 "nbformat_minor": 5
}
